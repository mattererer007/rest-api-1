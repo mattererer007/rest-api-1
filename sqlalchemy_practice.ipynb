{
 "cells": [
  {
   "cell_type": "code",
   "execution_count": 12,
   "metadata": {},
   "outputs": [],
   "source": [
    "# Set up connection to database\n",
    "# Import necessary libraries\n",
    "from sqlalchemy import create_engine, Table, MetaData, select, func, desc, asc\n",
    "from sqlalchemy.orm import sessionmaker\n",
    "from app2 import DATABASE_URL, RMCharacter, get_db\n",
    "import json\n",
    "\n",
    "# Setup SQLAlchemy\n",
    "engine = create_engine(DATABASE_URL)\n",
    "SessionLocal = sessionmaker(autocommit=False, autoflush=False, bind=engine)\n",
    "metadata = MetaData()\n"
   ]
  },
  {
   "cell_type": "code",
   "execution_count": 13,
   "metadata": {},
   "outputs": [],
   "source": [
    "# Reflect the tables from the database\n",
    "metadata.reflect(bind=engine)\n",
    "\n",
    "# Access the reflected rmcharacters table\n",
    "cd = metadata.tables['rmcharacters']"
   ]
  },
  {
   "cell_type": "code",
   "execution_count": null,
   "metadata": {},
   "outputs": [],
   "source": [
    "# query = select(cd.c.name, cd.c.status, cd.c.current_location).where(cd.c.name.like('%Sanchez')) ## Select chracters whose name ends with Sanchez\n",
    "# query = select(func.count()).where(cd.c.status == 'Alive') ## count the numner of characters who are alive\n",
    "# query = select(cd.c.origin, func.count(cd.c.origin).label('count')).group_by(cd.c.origin).order_by(desc('count')) ## Count the origin \n",
    "# query = select(cd.c.name, cd.c.gender, cd.c.status).where(cd.c.current_location == 'Earth (Replacement Dimension)') ## find all occupants of a given location\n",
    "# query = select(func.sum(cd.c.first_episode).label('sum')) ## sum up a column\n",
    "# \n",
    "\n",
    "\n",
    "# Create a session and query the database\n",
    "db = get_db()\n",
    "\n",
    "# Select all records from the 'rmcharacters' table\n",
    "# stmt = select(rmcharacters)\n",
    "result = db.execute(query)\n",
    "\n",
    "for row in result:\n",
    "    print(row)\n",
    "\n",
    "db.close()\n",
    "\n"
   ]
  },
  {
   "cell_type": "code",
   "execution_count": null,
   "metadata": {},
   "outputs": [],
   "source": [
    "for column in cd.columns:\n",
    "    print(column)"
   ]
  },
  {
   "cell_type": "code",
   "execution_count": 24,
   "metadata": {},
   "outputs": [
    {
     "ename": "AttributeError",
     "evalue": "Could not locate column in row for column 'items'",
     "output_type": "error",
     "traceback": [
      "\u001b[1;31m---------------------------------------------------------------------------\u001b[0m",
      "\u001b[1;31mNoSuchColumnError\u001b[0m                         Traceback (most recent call last)",
      "File \u001b[1;32mc:\\Local Code\\Local Github\\rest-api-1\\.venv\\Lib\\site-packages\\sqlalchemy\\engine\\result.py:199\u001b[0m, in \u001b[0;36mResultMetaData._key_not_found\u001b[1;34m(self, key, attr_error)\u001b[0m\n\u001b[0;32m    198\u001b[0m \u001b[38;5;28;01mtry\u001b[39;00m:\n\u001b[1;32m--> 199\u001b[0m     \u001b[38;5;28;43mself\u001b[39;49m\u001b[38;5;241;43m.\u001b[39;49m\u001b[43m_key_fallback\u001b[49m\u001b[43m(\u001b[49m\u001b[43mkey\u001b[49m\u001b[43m,\u001b[49m\u001b[43m \u001b[49m\u001b[38;5;28;43;01mNone\u001b[39;49;00m\u001b[43m)\u001b[49m\n\u001b[0;32m    200\u001b[0m \u001b[38;5;28;01mexcept\u001b[39;00m \u001b[38;5;167;01mKeyError\u001b[39;00m \u001b[38;5;28;01mas\u001b[39;00m ke:\n",
      "File \u001b[1;32mc:\\Local Code\\Local Github\\rest-api-1\\.venv\\Lib\\site-packages\\sqlalchemy\\engine\\cursor.py:824\u001b[0m, in \u001b[0;36mCursorResultMetaData._key_fallback\u001b[1;34m(self, key, err, raiseerr)\u001b[0m\n\u001b[0;32m    823\u001b[0m     \u001b[38;5;28;01melse\u001b[39;00m:\n\u001b[1;32m--> 824\u001b[0m         \u001b[38;5;28;01mraise\u001b[39;00m exc\u001b[38;5;241m.\u001b[39mNoSuchColumnError(\n\u001b[0;32m    825\u001b[0m             \u001b[38;5;124m\"\u001b[39m\u001b[38;5;124mCould not locate column in row for column \u001b[39m\u001b[38;5;124m'\u001b[39m\u001b[38;5;132;01m%s\u001b[39;00m\u001b[38;5;124m'\u001b[39m\u001b[38;5;124m\"\u001b[39m\n\u001b[0;32m    826\u001b[0m             \u001b[38;5;241m%\u001b[39m util\u001b[38;5;241m.\u001b[39mstring_or_unprintable(key)\n\u001b[0;32m    827\u001b[0m         ) \u001b[38;5;28;01mfrom\u001b[39;00m \u001b[38;5;21;01merr\u001b[39;00m\n\u001b[0;32m    828\u001b[0m \u001b[38;5;28;01melse\u001b[39;00m:\n",
      "\u001b[1;31mNoSuchColumnError\u001b[0m: Could not locate column in row for column 'items'",
      "\nThe above exception was the direct cause of the following exception:\n",
      "\u001b[1;31mAttributeError\u001b[0m                            Traceback (most recent call last)",
      "Cell \u001b[1;32mIn[24], line 8\u001b[0m\n\u001b[0;32m      6\u001b[0m \u001b[38;5;66;03m# Grab the entire file\u001b[39;00m\n\u001b[0;32m      7\u001b[0m rows \u001b[38;5;241m=\u001b[39m result\u001b[38;5;241m.\u001b[39mfetchall()\n\u001b[1;32m----> 8\u001b[0m \u001b[38;5;28;01mfor\u001b[39;00m item \u001b[38;5;129;01min\u001b[39;00m \u001b[43mrow\u001b[49m\u001b[38;5;241;43m.\u001b[39;49m\u001b[43mitems\u001b[49m():\n\u001b[0;32m      9\u001b[0m     \u001b[38;5;28mprint\u001b[39m(item)\n\u001b[0;32m     10\u001b[0m \u001b[38;5;66;03m# results = [row for row in rows]\u001b[39;00m\n\u001b[0;32m     11\u001b[0m \n\u001b[0;32m     12\u001b[0m \n\u001b[1;32m   (...)\u001b[0m\n\u001b[0;32m     16\u001b[0m \u001b[38;5;66;03m# # Print JSON string\u001b[39;00m\n\u001b[0;32m     17\u001b[0m \u001b[38;5;66;03m# print(json_data)\u001b[39;00m\n",
      "File \u001b[1;32mlib\\\\sqlalchemy\\\\cyextension\\\\resultproxy.pyx:66\u001b[0m, in \u001b[0;36msqlalchemy.cyextension.resultproxy.BaseRow.__getattr__\u001b[1;34m()\u001b[0m\n",
      "File \u001b[1;32mlib\\\\sqlalchemy\\\\cyextension\\\\resultproxy.pyx:63\u001b[0m, in \u001b[0;36msqlalchemy.cyextension.resultproxy.BaseRow._get_by_key_impl\u001b[1;34m()\u001b[0m\n",
      "File \u001b[1;32mc:\\Local Code\\Local Github\\rest-api-1\\.venv\\Lib\\site-packages\\sqlalchemy\\engine\\result.py:201\u001b[0m, in \u001b[0;36mResultMetaData._key_not_found\u001b[1;34m(self, key, attr_error)\u001b[0m\n\u001b[0;32m    199\u001b[0m         \u001b[38;5;28mself\u001b[39m\u001b[38;5;241m.\u001b[39m_key_fallback(key, \u001b[38;5;28;01mNone\u001b[39;00m)\n\u001b[0;32m    200\u001b[0m     \u001b[38;5;28;01mexcept\u001b[39;00m \u001b[38;5;167;01mKeyError\u001b[39;00m \u001b[38;5;28;01mas\u001b[39;00m ke:\n\u001b[1;32m--> 201\u001b[0m         \u001b[38;5;28;01mraise\u001b[39;00m \u001b[38;5;167;01mAttributeError\u001b[39;00m(ke\u001b[38;5;241m.\u001b[39margs[\u001b[38;5;241m0\u001b[39m]) \u001b[38;5;28;01mfrom\u001b[39;00m \u001b[38;5;21;01mke\u001b[39;00m\n\u001b[0;32m    202\u001b[0m \u001b[38;5;28;01melse\u001b[39;00m:\n\u001b[0;32m    203\u001b[0m     \u001b[38;5;28mself\u001b[39m\u001b[38;5;241m.\u001b[39m_key_fallback(key, \u001b[38;5;28;01mNone\u001b[39;00m)\n",
      "\u001b[1;31mAttributeError\u001b[0m: Could not locate column in row for column 'items'"
     ]
    }
   ],
   "source": [
    "# pull the database\n",
    "db = get_db()\n",
    "query = select(cd)\n",
    "result = db.execute(query)\n",
    "\n",
    "# Grab the entire file\n",
    "rows = result.fetchall()\n",
    "for item in row.items():\n",
    "    print(item)\n",
    "# results = [row for row in rows]\n",
    "\n",
    "\n",
    "# # Convert to JSON string\n",
    "# json_data = json.dumps(results, indent=4)\n",
    "\n",
    "# # Print JSON string\n",
    "# print(json_data)\n",
    "\n",
    "db.close()\n"
   ]
  }
 ],
 "metadata": {
  "kernelspec": {
   "display_name": ".venv",
   "language": "python",
   "name": "python3"
  },
  "language_info": {
   "codemirror_mode": {
    "name": "ipython",
    "version": 3
   },
   "file_extension": ".py",
   "mimetype": "text/x-python",
   "name": "python",
   "nbconvert_exporter": "python",
   "pygments_lexer": "ipython3",
   "version": "3.11.5"
  }
 },
 "nbformat": 4,
 "nbformat_minor": 2
}
